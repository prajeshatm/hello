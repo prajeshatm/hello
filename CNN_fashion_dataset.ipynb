{
  "cells": [
    {
      "cell_type": "markdown",
      "metadata": {
        "id": "view-in-github",
        "colab_type": "text"
      },
      "source": [
        "<a href=\"https://colab.research.google.com/github/prajeshatm/hello/blob/main/CNN_fashion_dataset.ipynb\" target=\"_parent\"><img src=\"https://colab.research.google.com/assets/colab-badge.svg\" alt=\"Open In Colab\"/></a>"
      ]
    },
    {
      "cell_type": "code",
      "execution_count": null,
      "metadata": {
        "colab": {
          "base_uri": "https://localhost:8080/",
          "height": 317
        },
        "id": "Y_DbHfBCjUm1",
        "outputId": "2fe59f79-0358-4188-c5c5-ad2ae168e8f7"
      },
      "outputs": [
        {
          "output_type": "stream",
          "name": "stdout",
          "text": [
            "Train: X=(60000, 28, 28), y=(60000,)\n",
            "Test: X=(10000, 28, 28), y=(10000,)\n",
            "9\n"
          ]
        },
        {
          "output_type": "display_data",
          "data": {
            "text/plain": [
              "<Figure size 432x288 with 1 Axes>"
            ],
            "image/png": "[encoded data removed]"
          },
          "metadata": {
            "needs_background": "light"
          }
        }
      ],
      "source": [
        "from matplotlib import pyplot\n",
        "from keras.datasets import fashion_mnist\n",
        "# load dataset\n",
        "(trainX, trainy), (testX, testy) = fashion_mnist.load_data()\n",
        "# summarize loaded dataset\n",
        "print('Train: X=%s, y=%s' % (trainX.shape, trainy.shape))\n",
        "print('Test: X=%s, y=%s' % (testX.shape, testy.shape))\n",
        "# plot first few images\n",
        "#for i in range(9):\n",
        " # define subplot\n",
        " #pyplot.subplot(330 + 1 + i)\n",
        " # plot raw pixel data\n",
        " #pyplot.imshow(trainX[i], cmap=pyplot.get_cmap('gray'))\n",
        "pyplot.imshow(trainX[0])\n",
        "print(trainy[0])\n",
        "# show the figure\n",
        "#pyplot.show()"
      ]
    },
    {
      "cell_type": "code",
      "execution_count": null,
      "metadata": {
        "id": "F9pgpxNujkJE"
      },
      "outputs": [],
      "source": [
        "# reshape dataset to have a single channel\n",
        "trainX = trainX.reshape((trainX.shape[0], 28, 28, 1))\n",
        "testX = testX.reshape((testX.shape[0], 28, 28, 1))"
      ]
    },
    {
      "cell_type": "code",
      "execution_count": null,
      "metadata": {
        "id": "rnVuupBFkZYI"
      },
      "outputs": [],
      "source": [
        "from tensorflow import keras\n",
        "# one hot encode target values\n",
        "trainy =keras.utils.to_categorical(trainy)\n",
        "testy = keras.utils.to_categorical(testy)"
      ]
    },
    {
      "cell_type": "code",
      "execution_count": null,
      "metadata": {
        "id": "CYoLhCTSltdc"
      },
      "outputs": [],
      "source": [
        "\n",
        "# convert from integers to floats\n",
        "train_norm = trainX.astype('float32')\n",
        "test_norm = testX.astype('float32')\n",
        "# normalize to range 0-1\n",
        "train_norm = train_norm / 255.0\n",
        "test_norm = test_norm / 255.0"
      ]
    },
    {
      "cell_type": "code",
      "execution_count": null,
      "metadata": {
        "id": "yEuUZPhYl9lf"
      },
      "outputs": [],
      "source": [
        "import tensorflow\n",
        "from tensorflow.keras.models import Sequential\n",
        "from tensorflow.keras.layers import Conv2D\n",
        "from tensorflow.keras.layers import MaxPool2D\n",
        "from tensorflow.keras.layers import Flatten\n",
        "from tensorflow.keras.layers import Dense\n",
        "from tensorflow.keras.optimizers import SGD\n",
        "model = Sequential()\n",
        "model.add(Conv2D(32, (3, 3), padding='same', activation='relu', kernel_initializer='he_uniform', input_shape=(28, 28, 1)))\n",
        "model.add(MaxPool2D((2, 2)))\n",
        "model.add(Conv2D(32, (3, 3),activation='relu'))\n",
        "model.add(MaxPool2D((2, 2)))\n",
        "model.add(Flatten())\n",
        "model.add(Dense(100, activation='relu', kernel_initializer='he_uniform'))\n",
        "model.add(Dense(10, activation='softmax'))\n",
        " # compile model\n",
        "#opt = SGD(lr=0.01, momentum=0.9)\n",
        "model.compile(optimizer='adam', loss='categorical_crossentropy', metrics=['accuracy'])"
      ]
    },
    {
      "cell_type": "code",
      "execution_count": null,
      "metadata": {
        "colab": {
          "base_uri": "https://localhost:8080/"
        },
        "id": "i7K7TsaCn8KD",
        "outputId": "146304a6-986e-4d71-a327-6f1b26fdfcf6"
      },
      "outputs": [
        {
          "output_type": "stream",
          "name": "stdout",
          "text": [
            "Epoch 1/7\n",
            "10/10 [==============================] - 61s 5s/step - loss: 96.5226 - accuracy: 0.3020\n",
            "Epoch 2/7\n",
            "10/10 [==============================] - 49s 5s/step - loss: 13.5245 - accuracy: 0.5170\n",
            "Epoch 3/7\n",
            "10/10 [==============================] - 59s 6s/step - loss: 4.8246 - accuracy: 0.6304\n",
            "Epoch 4/7\n",
            "10/10 [==============================] - 47s 5s/step - loss: 2.8605 - accuracy: 0.6683\n",
            "Epoch 5/7\n",
            "10/10 [==============================] - 49s 5s/step - loss: 2.1161 - accuracy: 0.7000\n",
            "Epoch 6/7\n",
            "10/10 [==============================] - 48s 5s/step - loss: 1.6872 - accuracy: 0.7179\n",
            "Epoch 7/7\n",
            "10/10 [==============================] - 48s 5s/step - loss: 1.4038 - accuracy: 0.7372\n"
          ]
        },
        {
          "output_type": "execute_result",
          "data": {
            "text/plain": [
              "<keras.callbacks.History at 0x7fefa8a91ac0>"
            ]
          },
          "metadata": {},
          "execution_count": 6
        }
      ],
      "source": [
        "\n",
        "model.fit(trainX,trainy,batch_size=6000,epochs=7)"
      ]
    },
    {
      "cell_type": "code",
      "execution_count": null,
      "metadata": {
        "id": "5yDn3xiupS9E"
      },
      "outputs": [],
      "source": [
        "# save model\n",
        "model.save('final_model.h5')"
      ]
    },
    {
      "cell_type": "code",
      "execution_count": null,
      "metadata": {
        "colab": {
          "base_uri": "https://localhost:8080/"
        },
        "id": "g50Lv3mhpmEP",
        "outputId": "c9e9fcf0-448a-497f-8309-39ad3dd8f4da"
      },
      "outputs": [
        {
          "output_type": "stream",
          "name": "stdout",
          "text": [
            "1/1 [==============================] - 0s 73ms/step\n",
            "Shirt\n"
          ]
        }
      ],
      "source": [
        "from tensorflow.python.ops.gen_data_flow_ops import resource_accumulator_set_global_step_eager_fallback\n",
        "# make a prediction for a new image.\n",
        "#from keras.preprocessing.image import load_img\n",
        "from tensorflow.keras.utils import load_img\n",
        "from tensorflow.keras.utils import img_to_array\n",
        "from keras.models import load_model\n",
        " \n",
        "# load and prepare the image\n",
        "def load_image(filename):\n",
        " # load the image\n",
        " img = load_img(filename, grayscale=True, target_size=(28, 28))\n",
        " # convert to array\n",
        " img = img_to_array(img)\n",
        " # reshape into a single sample with 1 channel\n",
        " img = img.reshape(1, 28, 28, 1)\n",
        " # prepare pixel data\n",
        " img = img.astype('float32')\n",
        " img = img / 255.0\n",
        " return img\n",
        " \n",
        "import numpy as np\n",
        "# load an image and predict the class\n",
        "def run_example():\n",
        " # load the image\n",
        " img = load_image('/content/sample_image.png')\n",
        " # load model\n",
        " model = load_model('final_model.h5')\n",
        " # predict the class\n",
        " result = model.predict(img)\n",
        " dic={0:'T-shirt/top',1: 'Trouser',2: 'Pullover',3:'Dress',4:'Coat',5:'Sandal',\n",
        "      6:'Shirt',7:'Sneaker',8:'Bag',9:'Ankle boot'}\n",
        " print(dic[np.argmax(result)])\n",
        " \n",
        "# entry point, run the example\n",
        "run_example()"
      ]
    }
  ],
  "metadata": {
    "colab": {
      "provenance": [],
      "authorship_tag": "ABX9TyOt34oTSxrDt9126eWkggYo",
      "include_colab_link": true
    },
    "kernelspec": {
      "display_name": "Python 3",
      "name": "python3"
    },
    "language_info": {
      "name": "python"
    }
  },
  "nbformat": 4,
  "nbformat_minor": 0
}